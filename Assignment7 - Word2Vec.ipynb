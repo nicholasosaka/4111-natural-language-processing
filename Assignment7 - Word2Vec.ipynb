{
 "cells": [
  {
   "cell_type": "code",
   "execution_count": 1,
   "metadata": {},
   "outputs": [],
   "source": [
    "import numpy as np\n",
    "import pandas as pd\n",
    "import matplotlib as matplot\n",
    "import nltk\n",
    "import sklearn as sk\n",
    "import re\n",
    "import gensim\n",
    "from gensim.models.word2vec import Word2Vec\n",
    "from sklearn.manifold import TSNE\n",
    "%matplotlib inline"
   ]
  },
  {
   "cell_type": "code",
   "execution_count": 2,
   "metadata": {},
   "outputs": [
    {
     "data": {
      "text/html": [
       "<div>\n",
       "<style scoped>\n",
       "    .dataframe tbody tr th:only-of-type {\n",
       "        vertical-align: middle;\n",
       "    }\n",
       "\n",
       "    .dataframe tbody tr th {\n",
       "        vertical-align: top;\n",
       "    }\n",
       "\n",
       "    .dataframe thead th {\n",
       "        text-align: right;\n",
       "    }\n",
       "</style>\n",
       "<table border=\"1\" class=\"dataframe\">\n",
       "  <thead>\n",
       "    <tr style=\"text-align: right;\">\n",
       "      <th></th>\n",
       "      <th>TARGET</th>\n",
       "      <th>POS</th>\n",
       "      <th>INDEX</th>\n",
       "      <th>TEXT</th>\n",
       "      <th>MEAN</th>\n",
       "    </tr>\n",
       "  </thead>\n",
       "  <tbody>\n",
       "    <tr>\n",
       "      <th>0</th>\n",
       "      <td>achievement</td>\n",
       "      <td>N</td>\n",
       "      <td>3</td>\n",
       "      <td>Bring up academic achievements , awards , and ...</td>\n",
       "      <td>3.06</td>\n",
       "    </tr>\n",
       "    <tr>\n",
       "      <th>1</th>\n",
       "      <td>achievement</td>\n",
       "      <td>N</td>\n",
       "      <td>9</td>\n",
       "      <td>Please list people you have helped , your pers...</td>\n",
       "      <td>3.03</td>\n",
       "    </tr>\n",
       "    <tr>\n",
       "      <th>2</th>\n",
       "      <td>activate</td>\n",
       "      <td>V</td>\n",
       "      <td>1</td>\n",
       "      <td>Add activated carbon straight to your vodka .</td>\n",
       "      <td>3.83</td>\n",
       "    </tr>\n",
       "    <tr>\n",
       "      <th>3</th>\n",
       "      <td>activate</td>\n",
       "      <td>V</td>\n",
       "      <td>15</td>\n",
       "      <td>Place sensors around your garden , and when a ...</td>\n",
       "      <td>5.51</td>\n",
       "    </tr>\n",
       "    <tr>\n",
       "      <th>4</th>\n",
       "      <td>adventure</td>\n",
       "      <td>N</td>\n",
       "      <td>9</td>\n",
       "      <td>Look for a partner that shares your level of a...</td>\n",
       "      <td>2.03</td>\n",
       "    </tr>\n",
       "  </tbody>\n",
       "</table>\n",
       "</div>"
      ],
      "text/plain": [
       "        TARGET POS  INDEX                                               TEXT  \\\n",
       "0  achievement   N      3  Bring up academic achievements , awards , and ...   \n",
       "1  achievement   N      9  Please list people you have helped , your pers...   \n",
       "2     activate   V      1     Add activated carbon straight to your vodka .    \n",
       "3     activate   V     15  Place sensors around your garden , and when a ...   \n",
       "4    adventure   N      9  Look for a partner that shares your level of a...   \n",
       "\n",
       "   MEAN  \n",
       "0  3.06  \n",
       "1  3.03  \n",
       "2  3.83  \n",
       "3  5.51  \n",
       "4  2.03  "
      ]
     },
     "execution_count": 2,
     "metadata": {},
     "output_type": "execute_result"
    }
   ],
   "source": [
    "en_df_raw = pd.read_csv('data/CONcreTEXT_trial_EN.tsv', sep='\\t') # load data files\n",
    "it_df_raw = pd.read_csv('data/CONcreTEXT_trial_IT.tsv', sep='\\t')\n",
    "\n",
    "en_df = pd.DataFrame()\n",
    "it_df = pd.DataFrame()\n",
    "\n",
    "en_df_raw.head()"
   ]
  },
  {
   "cell_type": "markdown",
   "metadata": {},
   "source": [
    "## Question 1"
   ]
  },
  {
   "cell_type": "code",
   "execution_count": 3,
   "metadata": {},
   "outputs": [
    {
     "data": {
      "text/plain": [
       "'Read the company ’s mission statement , history , and any other information you can find about them . '"
      ]
     },
     "execution_count": 3,
     "metadata": {},
     "output_type": "execute_result"
    }
   ],
   "source": [
    "en_df_raw['TEXT'][50] # understanding the dataset, so lets print out a sample sentence with at least one apostrophe, comma, and period"
   ]
  },
  {
   "cell_type": "code",
   "execution_count": 4,
   "metadata": {},
   "outputs": [],
   "source": [
    "# data cleaning\n",
    "en_df['SENTENCES'] = en_df_raw['TEXT'].apply(lambda sent: sent.strip().lower())\n",
    "it_df['SENTENCES'] = it_df_raw['TEXT'].apply(lambda sent: sent.strip().lower())"
   ]
  },
  {
   "cell_type": "code",
   "execution_count": 5,
   "metadata": {},
   "outputs": [
    {
     "data": {
      "text/plain": [
       "'read the company ’s mission statement , history , and any other information you can find about them .'"
      ]
     },
     "execution_count": 5,
     "metadata": {},
     "output_type": "execute_result"
    }
   ],
   "source": [
    "en_df['SENTENCES'][50] # same sample sentence but stripped and lowercase"
   ]
  },
  {
   "cell_type": "code",
   "execution_count": 6,
   "metadata": {},
   "outputs": [],
   "source": [
    "# lets stem words that have an apostrophe followed by s or ll or any other '\\w+ pattern\n",
    "\n",
    "# REGEX (\\w+)?['’]\\w+\n",
    "# optional capture group for \\w+ to capture any characters before a '\n",
    "# matches either ' or ’ (because this corpus for some reason uses both :) )\n",
    "# matches characters after it\n",
    "\n",
    "# lets get rid of non alphanumeric characters\n",
    "# lets also tokenize using wordpunct_tokenize\n",
    "\n",
    "stemmed = en_df['SENTENCES'].apply(lambda sent: re.sub(r\"(\\w+)?['’]\\w+\", '', sent)) # getting rid of apostrophe things\n",
    "only_words = stemmed.apply(lambda sentence: re.sub(r\"[^a-zA-Z0-9 ]+\", '', sentence)) # getting rid of punctuation, in other words, all non-alphaneumeric characters\n",
    "en_df['TOKENS'] = only_words.apply(nltk.wordpunct_tokenize) # tokenize :)"
   ]
  },
  {
   "cell_type": "code",
   "execution_count": 7,
   "metadata": {},
   "outputs": [
    {
     "data": {
      "text/plain": [
       "['read',\n",
       " 'the',\n",
       " 'company',\n",
       " 'mission',\n",
       " 'statement',\n",
       " 'history',\n",
       " 'and',\n",
       " 'any',\n",
       " 'other',\n",
       " 'information',\n",
       " 'you',\n",
       " 'can',\n",
       " 'find',\n",
       " 'about',\n",
       " 'them']"
      ]
     },
     "execution_count": 7,
     "metadata": {},
     "output_type": "execute_result"
    }
   ],
   "source": [
    "en_df['TOKENS'][50] # let's check on our sample sentence"
   ]
  },
  {
   "cell_type": "code",
   "execution_count": 8,
   "metadata": {},
   "outputs": [
    {
     "data": {
      "text/plain": [
       "{'and': <gensim.models.keyedvectors.Vocab at 0x7fb4a8b80730>,\n",
       " 'in': <gensim.models.keyedvectors.Vocab at 0x7fb4a8b80760>,\n",
       " 'your': <gensim.models.keyedvectors.Vocab at 0x7fb4a8b807f0>,\n",
       " 'life': <gensim.models.keyedvectors.Vocab at 0x7fb4a8b80880>,\n",
       " 'you': <gensim.models.keyedvectors.Vocab at 0x7fb4a8b804c0>,\n",
       " 'have': <gensim.models.keyedvectors.Vocab at 0x7fb4a8b807c0>,\n",
       " 'or': <gensim.models.keyedvectors.Vocab at 0x7fb4a8b80490>,\n",
       " 'to': <gensim.models.keyedvectors.Vocab at 0x7fb4a8b80310>,\n",
       " 'when': <gensim.models.keyedvectors.Vocab at 0x7fb4a8b80340>,\n",
       " 'a': <gensim.models.keyedvectors.Vocab at 0x7fb4a8b80640>,\n",
       " 'the': <gensim.models.keyedvectors.Vocab at 0x7fb4a8b80550>,\n",
       " 'for': <gensim.models.keyedvectors.Vocab at 0x7fb4a8b803d0>,\n",
       " 'that': <gensim.models.keyedvectors.Vocab at 0x7fb4a8b80160>,\n",
       " 'of': <gensim.models.keyedvectors.Vocab at 0x7fb4a8b80430>,\n",
       " 'if': <gensim.models.keyedvectors.Vocab at 0x7fb4a8b808e0>,\n",
       " 'on': <gensim.models.keyedvectors.Vocab at 0x7fb4a8b80940>,\n",
       " 'they': <gensim.models.keyedvectors.Vocab at 0x7fb4a8b809a0>,\n",
       " 'are': <gensim.models.keyedvectors.Vocab at 0x7fb4a8b80a00>,\n",
       " 'can': <gensim.models.keyedvectors.Vocab at 0x7fb4a8b80a60>,\n",
       " 'help': <gensim.models.keyedvectors.Vocab at 0x7fb4a8b80ac0>,\n",
       " 'more': <gensim.models.keyedvectors.Vocab at 0x7fb4a8b80b20>,\n",
       " 'an': <gensim.models.keyedvectors.Vocab at 0x7fb4a8b80b80>,\n",
       " 'any': <gensim.models.keyedvectors.Vocab at 0x7fb4a8b80be0>,\n",
       " 'with': <gensim.models.keyedvectors.Vocab at 0x7fb4a8b80c40>,\n",
       " 'as': <gensim.models.keyedvectors.Vocab at 0x7fb4a8b80ca0>,\n",
       " 'their': <gensim.models.keyedvectors.Vocab at 0x7fb4a8b80d30>,\n",
       " 'about': <gensim.models.keyedvectors.Vocab at 0x7fb4a8b80d90>,\n",
       " 'is': <gensim.models.keyedvectors.Vocab at 0x7fb4a8b80e20>,\n",
       " 'will': <gensim.models.keyedvectors.Vocab at 0x7fb4a8b80e80>,\n",
       " 'be': <gensim.models.keyedvectors.Vocab at 0x7fb4a8b80ee0>,\n",
       " 'by': <gensim.models.keyedvectors.Vocab at 0x7fb4a8b80f40>,\n",
       " 'do': <gensim.models.keyedvectors.Vocab at 0x7fb4a8b80fd0>,\n",
       " 'it': <gensim.models.keyedvectors.Vocab at 0x7fb4a8b80df0>,\n",
       " 'not': <gensim.models.keyedvectors.Vocab at 0x7fb4a3335070>,\n",
       " 'part': <gensim.models.keyedvectors.Vocab at 0x7fb4a33351f0>}"
      ]
     },
     "execution_count": 8,
     "metadata": {},
     "output_type": "execute_result"
    }
   ],
   "source": [
    "# make a word2vec!\n",
    "model = Word2Vec(list(en_df['TOKENS']), window=5, size=500, workers=4, min_count=5)\n",
    "model.wv.vocab"
   ]
  },
  {
   "cell_type": "code",
   "execution_count": 9,
   "metadata": {},
   "outputs": [],
   "source": [
    "tokens = []\n",
    "labels = []\n",
    "\n",
    "for label in model.wv.vocab:\n",
    "    labels.append(label)\n",
    "    tokens.append(model.wv[label])"
   ]
  },
  {
   "cell_type": "code",
   "execution_count": 10,
   "metadata": {},
   "outputs": [
    {
     "data": {
      "text/plain": [
       "array([ 0.00069411,  0.00040579, -0.00069235, -0.00072604, -0.00081364,\n",
       "        0.00018211, -0.00031391,  0.00096331, -0.00019748,  0.00066652],\n",
       "      dtype=float32)"
      ]
     },
     "execution_count": 10,
     "metadata": {},
     "output_type": "execute_result"
    }
   ],
   "source": [
    "tokens[0][:10] # show some weightings for label 'and', which is label 0"
   ]
  },
  {
   "cell_type": "code",
   "execution_count": 11,
   "metadata": {},
   "outputs": [],
   "source": [
    "tsne_model = TSNE(perplexity=250, n_components=2, init='pca', n_iter=250)"
   ]
  },
  {
   "cell_type": "code",
   "execution_count": 12,
   "metadata": {},
   "outputs": [],
   "source": [
    "vals = tsne_model.fit_transform(tokens)"
   ]
  },
  {
   "cell_type": "code",
   "execution_count": 13,
   "metadata": {},
   "outputs": [],
   "source": [
    "x = []\n",
    "y = []\n",
    "for v in vals:\n",
    "    x.append(v[0])\n",
    "    y.append(v[1])"
   ]
  },
  {
   "cell_type": "code",
   "execution_count": 14,
   "metadata": {},
   "outputs": [
    {
     "data": {
      "image/png": "[encoded data removed]",
      "text/plain": [
       "<Figure size 720x720 with 1 Axes>"
      ]
     },
     "metadata": {
      "needs_background": "light"
     },
     "output_type": "display_data"
    }
   ],
   "source": [
    "matplot.pyplot.figure(figsize=(10, 10)) \n",
    "for i in range(len(x)):\n",
    "  matplot.pyplot.scatter(x[i],y[i])\n",
    "  matplot.pyplot.annotate(labels[i],\n",
    "  xy=(x[i], y[i]),\n",
    "  xytext=(5, 2),\n",
    "  textcoords='offset points',\n",
    "  ha='right',\n",
    "  va='bottom')"
   ]
  },
  {
   "cell_type": "markdown",
   "metadata": {},
   "source": [
    "## Question 2\n",
    "*PROMPT:\n",
    "Are you satisfied with the quality of the embeddings? Why or why not? \n",
    "Give concrete examples of when the model is making correct judgments and when it is failing. Write at least 50 words.*\n",
    "\n",
    "*You may find the methods such as model.wv.most_similar and self.wv.doesnt_match()\n",
    "to be useful in determining how the model is behaving. For example, the most similar word to ‘caesar’ in our reference code is ‘brutus’ which may seem correct. You should find similar examples  of words in the English language data you have used to train the model on in Question 1 of this assignment.*\n"
   ]
  },
  {
   "cell_type": "code",
   "execution_count": 18,
   "metadata": {},
   "outputs": [
    {
     "data": {
      "text/plain": [
       "[('can', 0.07168176770210266),\n",
       " ('more', 0.07029658555984497),\n",
       " ('on', 0.06906329840421677),\n",
       " ('by', 0.06830058991909027),\n",
       " ('it', 0.059690751135349274),\n",
       " ('if', 0.049779899418354034),\n",
       " ('as', 0.04486085847020149),\n",
       " ('not', 0.042933836579322815),\n",
       " ('an', 0.03949223458766937),\n",
       " ('when', 0.025439735502004623)]"
      ]
     },
     "execution_count": 18,
     "metadata": {},
     "output_type": "execute_result"
    }
   ],
   "source": [
    "model.wv.most_similar('that')"
   ]
  },
  {
   "cell_type": "code",
   "execution_count": 19,
   "metadata": {},
   "outputs": [
    {
     "data": {
      "text/plain": [
       "[('not', 0.08582233637571335),\n",
       " ('your', 0.061003223061561584),\n",
       " ('you', 0.058284662663936615),\n",
       " ('be', 0.0581517368555069),\n",
       " ('and', 0.057104866951704025),\n",
       " ('with', 0.05349364131689072),\n",
       " ('do', 0.05342432111501694),\n",
       " ('it', 0.048267532140016556),\n",
       " ('to', 0.044224128127098083),\n",
       " ('if', 0.0402381531894207)]"
      ]
     },
     "execution_count": 19,
     "metadata": {},
     "output_type": "execute_result"
    }
   ],
   "source": [
    "model.wv.most_similar('any')"
   ]
  },
  {
   "cell_type": "markdown",
   "metadata": {},
   "source": [
    "I am satisfied. You can see how the words \"a\" and \"the\" are in the bottom left quadrant. These words have similar functions, so it makes sense that they are closer together. Additionally, observe \"that\" and \"any\", around (-5,-23). These words also serve similar functions, i.e. qualifiying *which* subject: \"I want *any* pizza\" and \"I want *that* pizza\" are similar sentences and the embdeddings demonstrate that. We can also see that for the most part, the vector tuples for 'that' and 'any' are pretty similar.\n",
    "\n",
    "Now, of course there's some failures. Consider \"it\" and \"the\". They serve the same grammatical function. But 'it' and 'the' are super far apart. I suspect this may be solved by having a larger corpus."
   ]
  },
  {
   "cell_type": "markdown",
   "metadata": {},
   "source": [
    "## Question 3 **\n",
    "\n",
    "*PROMPT:\n",
    "You have trained your own toy word embedding but there are two important tricks the homework didn't cover, which are Subsampling Frequent Words and Negative Sampling. Explain why we need these two tricks? Write at least 100 words.*"
   ]
  },
  {
   "cell_type": "markdown",
   "metadata": {},
   "source": [
    "Subsampling Frequent Words addresses the issue where very common words serve a syntactical purpose rather than a semantic purpose. Consider the word \"the\". It will appear around any noun or adjective. It can just work like that. It's pretty useless for Word2Vec, but not *entirely* useless. Therefore, Subsampling Frequent Words implements an algorithm where there's a chance to remove a word from a window proportional to the words frequency.\n",
    "\n",
    "Negative Sampling is where the neural network in Word2Vec doesn't update *all* of the weights for each sample when training. Instead, it updates the target word's weight *as well as* a chosen number of negative words to update in the negative direction, i.e. closer to 0. This means we're not updating all weights, but a small percentage of them: the target word weights and N randomly selected negative words that do not appear in the window."
   ]
  }
 ],
 "metadata": {
  "kernelspec": {
   "display_name": "Python 3",
   "language": "python",
   "name": "python3"
  },
  "language_info": {
   "codemirror_mode": {
    "name": "ipython",
    "version": 3
   },
   "file_extension": ".py",
   "mimetype": "text/x-python",
   "name": "python",
   "nbconvert_exporter": "python",
   "pygments_lexer": "ipython3",
   "version": "3.8.5"
  }
 },
 "nbformat": 4,
 "nbformat_minor": 4
}
