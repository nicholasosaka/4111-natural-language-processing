{
 "cells": [
  {
   "cell_type": "code",
   "execution_count": 1,
   "metadata": {},
   "outputs": [],
   "source": [
    "import numpy as np\n",
    "import pandas as pd\n",
    "import matplotlib as matplot\n",
    "import nltk\n",
    "import sklearn as sk\n",
    "import re\n",
    "import gensim\n",
    "from gensim.models.word2vec import Word2Vec\n",
    "from sklearn.manifold import TSNE\n",
    "%matplotlib inline"
   ]
  },
  {
   "cell_type": "code",
   "execution_count": 2,
   "metadata": {},
   "outputs": [
    {
     "data": {
      "text/html": [
       "<div>\n",
       "<style scoped>\n",
       "    .dataframe tbody tr th:only-of-type {\n",
       "        vertical-align: middle;\n",
       "    }\n",
       "\n",
       "    .dataframe tbody tr th {\n",
       "        vertical-align: top;\n",
       "    }\n",
       "\n",
       "    .dataframe thead th {\n",
       "        text-align: right;\n",
       "    }\n",
       "</style>\n",
       "<table border=\"1\" class=\"dataframe\">\n",
       "  <thead>\n",
       "    <tr style=\"text-align: right;\">\n",
       "      <th></th>\n",
       "      <th>TARGET</th>\n",
       "      <th>POS</th>\n",
       "      <th>INDEX</th>\n",
       "      <th>TEXT</th>\n",
       "      <th>MEAN</th>\n",
       "    </tr>\n",
       "  </thead>\n",
       "  <tbody>\n",
       "    <tr>\n",
       "      <th>0</th>\n",
       "      <td>achievement</td>\n",
       "      <td>N</td>\n",
       "      <td>3</td>\n",
       "      <td>Bring up academic achievements , awards , and ...</td>\n",
       "      <td>3.06</td>\n",
       "    </tr>\n",
       "    <tr>\n",
       "      <th>1</th>\n",
       "      <td>achievement</td>\n",
       "      <td>N</td>\n",
       "      <td>9</td>\n",
       "      <td>Please list people you have helped , your pers...</td>\n",
       "      <td>3.03</td>\n",
       "    </tr>\n",
       "    <tr>\n",
       "      <th>2</th>\n",
       "      <td>activate</td>\n",
       "      <td>V</td>\n",
       "      <td>1</td>\n",
       "      <td>Add activated carbon straight to your vodka .</td>\n",
       "      <td>3.83</td>\n",
       "    </tr>\n",
       "    <tr>\n",
       "      <th>3</th>\n",
       "      <td>activate</td>\n",
       "      <td>V</td>\n",
       "      <td>15</td>\n",
       "      <td>Place sensors around your garden , and when a ...</td>\n",
       "      <td>5.51</td>\n",
       "    </tr>\n",
       "    <tr>\n",
       "      <th>4</th>\n",
       "      <td>adventure</td>\n",
       "      <td>N</td>\n",
       "      <td>9</td>\n",
       "      <td>Look for a partner that shares your level of a...</td>\n",
       "      <td>2.03</td>\n",
       "    </tr>\n",
       "  </tbody>\n",
       "</table>\n",
       "</div>"
      ],
      "text/plain": [
       "        TARGET POS  INDEX                                               TEXT  \\\n",
       "0  achievement   N      3  Bring up academic achievements , awards , and ...   \n",
       "1  achievement   N      9  Please list people you have helped , your pers...   \n",
       "2     activate   V      1     Add activated carbon straight to your vodka .    \n",
       "3     activate   V     15  Place sensors around your garden , and when a ...   \n",
       "4    adventure   N      9  Look for a partner that shares your level of a...   \n",
       "\n",
       "   MEAN  \n",
       "0  3.06  \n",
       "1  3.03  \n",
       "2  3.83  \n",
       "3  5.51  \n",
       "4  2.03  "
      ]
     },
     "execution_count": 2,
     "metadata": {},
     "output_type": "execute_result"
    }
   ],
   "source": [
    "en_df_raw = pd.read_csv('data/CONcreTEXT_trial_EN.tsv', sep='\\t') # load data files\n",
    "it_df_raw = pd.read_csv('data/CONcreTEXT_trial_IT.tsv', sep='\\t')\n",
    "\n",
    "en_df = pd.DataFrame()\n",
    "it_df = pd.DataFrame()\n",
    "\n",
    "en_df_raw.head()"
   ]
  },
  {
   "cell_type": "markdown",
   "metadata": {},
   "source": [
    "## Question 1"
   ]
  },
  {
   "cell_type": "code",
   "execution_count": 3,
   "metadata": {},
   "outputs": [
    {
     "data": {
      "text/plain": [
       "'Read the company ’s mission statement , history , and any other information you can find about them . '"
      ]
     },
     "execution_count": 3,
     "metadata": {},
     "output_type": "execute_result"
    }
   ],
   "source": [
    "en_df_raw['TEXT'][50] # understanding the dataset, so lets print out a sample sentence with at least one apostrophe, comma, and period"
   ]
  },
  {
   "cell_type": "code",
   "execution_count": 4,
   "metadata": {},
   "outputs": [],
   "source": [
    "# data cleaning\n",
    "en_df['SENTENCES'] = en_df_raw['TEXT'].apply(lambda sent: sent.strip().lower())\n",
    "it_df['SENTENCES'] = it_df_raw['TEXT'].apply(lambda sent: sent.strip().lower())"
   ]
  },
  {
   "cell_type": "code",
   "execution_count": 5,
   "metadata": {},
   "outputs": [
    {
     "data": {
      "text/plain": [
       "'read the company ’s mission statement , history , and any other information you can find about them .'"
      ]
     },
     "execution_count": 5,
     "metadata": {},
     "output_type": "execute_result"
    }
   ],
   "source": [
    "en_df['SENTENCES'][50] # same sample sentence but stripped and lowercase"
   ]
  },
  {
   "cell_type": "code",
   "execution_count": 6,
   "metadata": {},
   "outputs": [],
   "source": [
    "# lets stem words that have an apostrophe followed by s or ll or any other '\\w+ pattern\n",
    "\n",
    "# REGEX (\\w+)?['’]\\w+\n",
    "# optional capture group for \\w+ to capture any characters before a '\n",
    "# matches either ' or ’ (because this corpus for some reason uses both :) )\n",
    "# matches characters after it\n",
    "\n",
    "# lets get rid of non alphanumeric characters\n",
    "# lets also tokenize using wordpunct_tokenize\n",
    "\n",
    "stemmed = en_df['SENTENCES'].apply(lambda sent: re.sub(r\"(\\w+)?['’]\\w+\", '', sent)) # getting rid of apostrophe things\n",
    "only_words = stemmed.apply(lambda sentence: re.sub(r\"[^a-zA-Z0-9 ]+\", '', sentence)) # getting rid of punctuation, in other words, all non-alphaneumeric characters\n",
    "en_df['TOKENS'] = only_words.apply(nltk.wordpunct_tokenize) # tokenize :)"
   ]
  },
  {
   "cell_type": "code",
   "execution_count": 7,
   "metadata": {},
   "outputs": [
    {
     "data": {
      "text/plain": [
       "['read',\n",
       " 'the',\n",
       " 'company',\n",
       " 'mission',\n",
       " 'statement',\n",
       " 'history',\n",
       " 'and',\n",
       " 'any',\n",
       " 'other',\n",
       " 'information',\n",
       " 'you',\n",
       " 'can',\n",
       " 'find',\n",
       " 'about',\n",
       " 'them']"
      ]
     },
     "execution_count": 7,
     "metadata": {},
     "output_type": "execute_result"
    }
   ],
   "source": [
    "en_df['TOKENS'][50] # let's check on our sample sentence"
   ]
  },
  {
   "cell_type": "code",
   "execution_count": 8,
   "metadata": {},
   "outputs": [
    {
     "data": {
      "text/plain": [
       "{'and': <gensim.models.keyedvectors.Vocab at 0x7fbe66774310>,\n",
       " 'in': <gensim.models.keyedvectors.Vocab at 0x7fbe63ad0250>,\n",
       " 'your': <gensim.models.keyedvectors.Vocab at 0x7fbe63affe80>,\n",
       " 'life': <gensim.models.keyedvectors.Vocab at 0x7fbe63b240d0>,\n",
       " 'you': <gensim.models.keyedvectors.Vocab at 0x7fbe63b24100>,\n",
       " 'have': <gensim.models.keyedvectors.Vocab at 0x7fbe6947b400>,\n",
       " 'or': <gensim.models.keyedvectors.Vocab at 0x7fbe6947b130>,\n",
       " 'to': <gensim.models.keyedvectors.Vocab at 0x7fbe6947b220>,\n",
       " 'when': <gensim.models.keyedvectors.Vocab at 0x7fbe6947b2b0>,\n",
       " 'a': <gensim.models.keyedvectors.Vocab at 0x7fbe6947b880>,\n",
       " 'the': <gensim.models.keyedvectors.Vocab at 0x7fbe6947b8e0>,\n",
       " 'for': <gensim.models.keyedvectors.Vocab at 0x7fbe6947b940>,\n",
       " 'that': <gensim.models.keyedvectors.Vocab at 0x7fbe6947b9a0>,\n",
       " 'of': <gensim.models.keyedvectors.Vocab at 0x7fbe6947ba00>,\n",
       " 'if': <gensim.models.keyedvectors.Vocab at 0x7fbe6947ba60>,\n",
       " 'on': <gensim.models.keyedvectors.Vocab at 0x7fbe6947bac0>,\n",
       " 'they': <gensim.models.keyedvectors.Vocab at 0x7fbe6947bb20>,\n",
       " 'are': <gensim.models.keyedvectors.Vocab at 0x7fbe6947bb80>,\n",
       " 'can': <gensim.models.keyedvectors.Vocab at 0x7fbe6947bc10>,\n",
       " 'help': <gensim.models.keyedvectors.Vocab at 0x7fbe6947bc70>,\n",
       " 'more': <gensim.models.keyedvectors.Vocab at 0x7fbe6947bcd0>,\n",
       " 'an': <gensim.models.keyedvectors.Vocab at 0x7fbe6947bd60>,\n",
       " 'any': <gensim.models.keyedvectors.Vocab at 0x7fbe6947bdc0>,\n",
       " 'with': <gensim.models.keyedvectors.Vocab at 0x7fbe6947be20>,\n",
       " 'as': <gensim.models.keyedvectors.Vocab at 0x7fbe6947be80>,\n",
       " 'their': <gensim.models.keyedvectors.Vocab at 0x7fbe6947bbe0>,\n",
       " 'about': <gensim.models.keyedvectors.Vocab at 0x7fbe6947bf10>,\n",
       " 'is': <gensim.models.keyedvectors.Vocab at 0x7fbe6947bf70>,\n",
       " 'will': <gensim.models.keyedvectors.Vocab at 0x7fbe6947bd30>,\n",
       " 'be': <gensim.models.keyedvectors.Vocab at 0x7fbe69468ac0>,\n",
       " 'by': <gensim.models.keyedvectors.Vocab at 0x7fbe69468ca0>,\n",
       " 'do': <gensim.models.keyedvectors.Vocab at 0x7fbe69468550>,\n",
       " 'it': <gensim.models.keyedvectors.Vocab at 0x7fbe694680d0>,\n",
       " 'not': <gensim.models.keyedvectors.Vocab at 0x7fbe69468a90>,\n",
       " 'part': <gensim.models.keyedvectors.Vocab at 0x7fbe69468e20>}"
      ]
     },
     "execution_count": 8,
     "metadata": {},
     "output_type": "execute_result"
    }
   ],
   "source": [
    "# make a word2vec!\n",
    "model = Word2Vec(list(en_df['TOKENS']), window=5, size=500, workers=4, min_count=5)\n",
    "model.wv.vocab"
   ]
  },
  {
   "cell_type": "code",
   "execution_count": 9,
   "metadata": {},
   "outputs": [],
   "source": [
    "tokens = []\n",
    "labels = []\n",
    "\n",
    "for label in model.wv.vocab:\n",
    "    labels.append(label)\n",
    "    tokens.append(model.wv[label])"
   ]
  },
  {
   "cell_type": "code",
   "execution_count": 10,
   "metadata": {},
   "outputs": [
    {
     "data": {
      "text/plain": [
       "array([-2.8704284e-04, -9.1386144e-04, -8.5199683e-04,  9.0527159e-05,\n",
       "       -5.9238099e-04, -8.4691431e-04, -6.9214159e-04, -3.8059635e-04,\n",
       "        1.8358204e-04, -6.9234968e-04], dtype=float32)"
      ]
     },
     "execution_count": 10,
     "metadata": {},
     "output_type": "execute_result"
    }
   ],
   "source": [
    "tokens[0][:10] # show some weightings for label 'and', which is label 0"
   ]
  },
  {
   "cell_type": "code",
   "execution_count": 11,
   "metadata": {},
   "outputs": [],
   "source": [
    "tsne_model = TSNE(perplexity=250, n_components=2, init='pca', n_iter=250)"
   ]
  },
  {
   "cell_type": "code",
   "execution_count": 12,
   "metadata": {},
   "outputs": [],
   "source": [
    "vals = tsne_model.fit_transform(tokens)"
   ]
  },
  {
   "cell_type": "code",
   "execution_count": 13,
   "metadata": {},
   "outputs": [],
   "source": [
    "x = []\n",
    "y = []\n",
    "for v in vals:\n",
    "    x.append(v[0])\n",
    "    y.append(v[1])"
   ]
  },
  {
   "cell_type": "code",
   "execution_count": 14,
   "metadata": {},
   "outputs": [
    {
     "data": {
      "image/png": "[encoded data removed]",
      "text/plain": [
       "<Figure size 720x720 with 1 Axes>"
      ]
     },
     "metadata": {
      "needs_background": "light"
     },
     "output_type": "display_data"
    }
   ],
   "source": [
    "matplot.pyplot.figure(figsize=(10, 10)) \n",
    "for i in range(len(x)):\n",
    "  matplot.pyplot.scatter(x[i],y[i])\n",
    "  matplot.pyplot.annotate(labels[i],\n",
    "  xy=(x[i], y[i]),\n",
    "  xytext=(5, 2),\n",
    "  textcoords='offset points',\n",
    "  ha='right',\n",
    "  va='bottom')"
   ]
  },
  {
   "cell_type": "markdown",
   "metadata": {},
   "source": [
    "## Question 2\n",
    "*PROMPT:\n",
    "Are you satisfied with the quality of the embeddings? Why or why not? \n",
    "Give concrete examples of when the model is making correct judgments and when it is failing. Write at least 50 words.*\n",
    "\n",
    "*You may find the methods such as model.wv.most_similar and self.wv.doesnt_match()\n",
    "to be useful in determining how the model is behaving. For example, the most similar word to ‘caesar’ in our reference code is ‘brutus’ which may seem correct. You should find similar examples  of words in the English language data you have used to train the model on in Question 1 of this assignment.*\n"
   ]
  },
  {
   "cell_type": "markdown",
   "metadata": {},
   "source": [
    "## Question 3 **\n",
    "\n",
    "*PROMPT:\n",
    "You have trained your own toy word embedding but there are two important tricks the homework didn't cover, which are Subsampling Frequent Words and Negative Sampling. Explain why we need these two tricks? Write at least 100 words.*"
   ]
  }
 ],
 "metadata": {
  "kernelspec": {
   "display_name": "Python 3",
   "language": "python",
   "name": "python3"
  },
  "language_info": {
   "codemirror_mode": {
    "name": "ipython",
    "version": 3
   },
   "file_extension": ".py",
   "mimetype": "text/x-python",
   "name": "python",
   "nbconvert_exporter": "python",
   "pygments_lexer": "ipython3",
   "version": "3.8.5"
  }
 },
 "nbformat": 4,
 "nbformat_minor": 4
}
