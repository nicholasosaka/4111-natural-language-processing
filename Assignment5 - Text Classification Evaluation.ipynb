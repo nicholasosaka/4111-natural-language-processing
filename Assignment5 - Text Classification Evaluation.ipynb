{
 "cells": [
  {
   "cell_type": "code",
   "execution_count": 1,
   "metadata": {},
   "outputs": [],
   "source": [
    "import numpy as np\n",
    "import pandas as pd\n",
    "import matplotlib as matplot\n",
    "import nltk\n",
    "import sklearn as sk"
   ]
  },
  {
   "cell_type": "markdown",
   "metadata": {},
   "source": [
    "# Question 1"
   ]
  },
  {
   "cell_type": "code",
   "execution_count": 2,
   "metadata": {},
   "outputs": [],
   "source": [
    "en_df = pd.read_csv('data/CONcreTEXT_trial_EN.tsv', sep='\\t') # load data files\n",
    "it_df = pd.read_csv('data/CONcreTEXT_trial_IT.tsv', sep='\\t')"
   ]
  },
  {
   "cell_type": "code",
   "execution_count": 3,
   "metadata": {},
   "outputs": [
    {
     "data": {
      "text/html": [
       "<div>\n",
       "<style scoped>\n",
       "    .dataframe tbody tr th:only-of-type {\n",
       "        vertical-align: middle;\n",
       "    }\n",
       "\n",
       "    .dataframe tbody tr th {\n",
       "        vertical-align: top;\n",
       "    }\n",
       "\n",
       "    .dataframe thead th {\n",
       "        text-align: right;\n",
       "    }\n",
       "</style>\n",
       "<table border=\"1\" class=\"dataframe\">\n",
       "  <thead>\n",
       "    <tr style=\"text-align: right;\">\n",
       "      <th></th>\n",
       "      <th>index</th>\n",
       "      <th>TARGET</th>\n",
       "      <th>POS</th>\n",
       "      <th>INDEX</th>\n",
       "      <th>TEXT</th>\n",
       "      <th>MEAN</th>\n",
       "    </tr>\n",
       "  </thead>\n",
       "  <tbody>\n",
       "    <tr>\n",
       "      <th>0</th>\n",
       "      <td>0</td>\n",
       "      <td>achievement</td>\n",
       "      <td>N</td>\n",
       "      <td>3</td>\n",
       "      <td>Bring up academic achievements , awards , and ...</td>\n",
       "      <td>3.06</td>\n",
       "    </tr>\n",
       "    <tr>\n",
       "      <th>1</th>\n",
       "      <td>1</td>\n",
       "      <td>achievement</td>\n",
       "      <td>N</td>\n",
       "      <td>9</td>\n",
       "      <td>Please list people you have helped , your pers...</td>\n",
       "      <td>3.03</td>\n",
       "    </tr>\n",
       "    <tr>\n",
       "      <th>2</th>\n",
       "      <td>2</td>\n",
       "      <td>activate</td>\n",
       "      <td>V</td>\n",
       "      <td>1</td>\n",
       "      <td>Add activated carbon straight to your vodka .</td>\n",
       "      <td>3.83</td>\n",
       "    </tr>\n",
       "    <tr>\n",
       "      <th>3</th>\n",
       "      <td>3</td>\n",
       "      <td>activate</td>\n",
       "      <td>V</td>\n",
       "      <td>15</td>\n",
       "      <td>Place sensors around your garden , and when a ...</td>\n",
       "      <td>5.51</td>\n",
       "    </tr>\n",
       "    <tr>\n",
       "      <th>4</th>\n",
       "      <td>4</td>\n",
       "      <td>adventure</td>\n",
       "      <td>N</td>\n",
       "      <td>9</td>\n",
       "      <td>Look for a partner that shares your level of a...</td>\n",
       "      <td>2.03</td>\n",
       "    </tr>\n",
       "    <tr>\n",
       "      <th>...</th>\n",
       "      <td>...</td>\n",
       "      <td>...</td>\n",
       "      <td>...</td>\n",
       "      <td>...</td>\n",
       "      <td>...</td>\n",
       "      <td>...</td>\n",
       "    </tr>\n",
       "    <tr>\n",
       "      <th>195</th>\n",
       "      <td>95</td>\n",
       "      <td>verità</td>\n",
       "      <td>N</td>\n",
       "      <td>8</td>\n",
       "      <td>In un modo o nell' altro , la verità viene sem...</td>\n",
       "      <td>2.53</td>\n",
       "    </tr>\n",
       "    <tr>\n",
       "      <th>196</th>\n",
       "      <td>96</td>\n",
       "      <td>viaggio</td>\n",
       "      <td>N</td>\n",
       "      <td>2</td>\n",
       "      <td>Organizza dei viaggi nel fine settimana quando...</td>\n",
       "      <td>5.03</td>\n",
       "    </tr>\n",
       "    <tr>\n",
       "      <th>197</th>\n",
       "      <td>97</td>\n",
       "      <td>viaggio</td>\n",
       "      <td>N</td>\n",
       "      <td>6</td>\n",
       "      <td>Pesa le tue valigie prima del viaggio per evit...</td>\n",
       "      <td>4.84</td>\n",
       "    </tr>\n",
       "    <tr>\n",
       "      <th>198</th>\n",
       "      <td>98</td>\n",
       "      <td>vista</td>\n",
       "      <td>N</td>\n",
       "      <td>6</td>\n",
       "      <td>è molto importante non perdere di vista la pro...</td>\n",
       "      <td>2.22</td>\n",
       "    </tr>\n",
       "    <tr>\n",
       "      <th>199</th>\n",
       "      <td>99</td>\n",
       "      <td>vista</td>\n",
       "      <td>N</td>\n",
       "      <td>9</td>\n",
       "      <td>i conigli hanno un ottimo udito e un' ottima v...</td>\n",
       "      <td>5.13</td>\n",
       "    </tr>\n",
       "  </tbody>\n",
       "</table>\n",
       "<p>200 rows × 6 columns</p>\n",
       "</div>"
      ],
      "text/plain": [
       "     index       TARGET POS  INDEX  \\\n",
       "0        0  achievement   N      3   \n",
       "1        1  achievement   N      9   \n",
       "2        2     activate   V      1   \n",
       "3        3     activate   V     15   \n",
       "4        4    adventure   N      9   \n",
       "..     ...          ...  ..    ...   \n",
       "195     95       verità   N      8   \n",
       "196     96      viaggio   N      2   \n",
       "197     97      viaggio   N      6   \n",
       "198     98        vista   N      6   \n",
       "199     99        vista   N      9   \n",
       "\n",
       "                                                  TEXT  MEAN  \n",
       "0    Bring up academic achievements , awards , and ...  3.06  \n",
       "1    Please list people you have helped , your pers...  3.03  \n",
       "2       Add activated carbon straight to your vodka .   3.83  \n",
       "3    Place sensors around your garden , and when a ...  5.51  \n",
       "4    Look for a partner that shares your level of a...  2.03  \n",
       "..                                                 ...   ...  \n",
       "195  In un modo o nell' altro , la verità viene sem...  2.53  \n",
       "196  Organizza dei viaggi nel fine settimana quando...  5.03  \n",
       "197  Pesa le tue valigie prima del viaggio per evit...  4.84  \n",
       "198  è molto importante non perdere di vista la pro...  2.22  \n",
       "199  i conigli hanno un ottimo udito e un' ottima v...  5.13  \n",
       "\n",
       "[200 rows x 6 columns]"
      ]
     },
     "execution_count": 3,
     "metadata": {},
     "output_type": "execute_result"
    }
   ],
   "source": [
    "df = pd.concat([en_df, it_df])\n",
    "df = df.reset_index(0)\n",
    "df"
   ]
  },
  {
   "cell_type": "code",
   "execution_count": 4,
   "metadata": {},
   "outputs": [
    {
     "data": {
      "text/html": [
       "<div>\n",
       "<style scoped>\n",
       "    .dataframe tbody tr th:only-of-type {\n",
       "        vertical-align: middle;\n",
       "    }\n",
       "\n",
       "    .dataframe tbody tr th {\n",
       "        vertical-align: top;\n",
       "    }\n",
       "\n",
       "    .dataframe thead th {\n",
       "        text-align: right;\n",
       "    }\n",
       "</style>\n",
       "<table border=\"1\" class=\"dataframe\">\n",
       "  <thead>\n",
       "    <tr style=\"text-align: right;\">\n",
       "      <th></th>\n",
       "      <th>index</th>\n",
       "      <th>TARGET</th>\n",
       "      <th>POS</th>\n",
       "      <th>INDEX</th>\n",
       "      <th>TEXT</th>\n",
       "      <th>MEAN</th>\n",
       "      <th>CONCRETE</th>\n",
       "    </tr>\n",
       "  </thead>\n",
       "  <tbody>\n",
       "    <tr>\n",
       "      <th>0</th>\n",
       "      <td>0</td>\n",
       "      <td>achievement</td>\n",
       "      <td>N</td>\n",
       "      <td>3</td>\n",
       "      <td>Bring up academic achievements , awards , and ...</td>\n",
       "      <td>3.06</td>\n",
       "      <td>LOW</td>\n",
       "    </tr>\n",
       "    <tr>\n",
       "      <th>1</th>\n",
       "      <td>1</td>\n",
       "      <td>achievement</td>\n",
       "      <td>N</td>\n",
       "      <td>9</td>\n",
       "      <td>Please list people you have helped , your pers...</td>\n",
       "      <td>3.03</td>\n",
       "      <td>LOW</td>\n",
       "    </tr>\n",
       "    <tr>\n",
       "      <th>2</th>\n",
       "      <td>2</td>\n",
       "      <td>activate</td>\n",
       "      <td>V</td>\n",
       "      <td>1</td>\n",
       "      <td>Add activated carbon straight to your vodka .</td>\n",
       "      <td>3.83</td>\n",
       "      <td>LOW</td>\n",
       "    </tr>\n",
       "    <tr>\n",
       "      <th>3</th>\n",
       "      <td>3</td>\n",
       "      <td>activate</td>\n",
       "      <td>V</td>\n",
       "      <td>15</td>\n",
       "      <td>Place sensors around your garden , and when a ...</td>\n",
       "      <td>5.51</td>\n",
       "      <td>HIGH</td>\n",
       "    </tr>\n",
       "    <tr>\n",
       "      <th>4</th>\n",
       "      <td>4</td>\n",
       "      <td>adventure</td>\n",
       "      <td>N</td>\n",
       "      <td>9</td>\n",
       "      <td>Look for a partner that shares your level of a...</td>\n",
       "      <td>2.03</td>\n",
       "      <td>LOW</td>\n",
       "    </tr>\n",
       "    <tr>\n",
       "      <th>...</th>\n",
       "      <td>...</td>\n",
       "      <td>...</td>\n",
       "      <td>...</td>\n",
       "      <td>...</td>\n",
       "      <td>...</td>\n",
       "      <td>...</td>\n",
       "      <td>...</td>\n",
       "    </tr>\n",
       "    <tr>\n",
       "      <th>195</th>\n",
       "      <td>95</td>\n",
       "      <td>verità</td>\n",
       "      <td>N</td>\n",
       "      <td>8</td>\n",
       "      <td>In un modo o nell' altro , la verità viene sem...</td>\n",
       "      <td>2.53</td>\n",
       "      <td>LOW</td>\n",
       "    </tr>\n",
       "    <tr>\n",
       "      <th>196</th>\n",
       "      <td>96</td>\n",
       "      <td>viaggio</td>\n",
       "      <td>N</td>\n",
       "      <td>2</td>\n",
       "      <td>Organizza dei viaggi nel fine settimana quando...</td>\n",
       "      <td>5.03</td>\n",
       "      <td>HIGH</td>\n",
       "    </tr>\n",
       "    <tr>\n",
       "      <th>197</th>\n",
       "      <td>97</td>\n",
       "      <td>viaggio</td>\n",
       "      <td>N</td>\n",
       "      <td>6</td>\n",
       "      <td>Pesa le tue valigie prima del viaggio per evit...</td>\n",
       "      <td>4.84</td>\n",
       "      <td>HIGH</td>\n",
       "    </tr>\n",
       "    <tr>\n",
       "      <th>198</th>\n",
       "      <td>98</td>\n",
       "      <td>vista</td>\n",
       "      <td>N</td>\n",
       "      <td>6</td>\n",
       "      <td>è molto importante non perdere di vista la pro...</td>\n",
       "      <td>2.22</td>\n",
       "      <td>LOW</td>\n",
       "    </tr>\n",
       "    <tr>\n",
       "      <th>199</th>\n",
       "      <td>99</td>\n",
       "      <td>vista</td>\n",
       "      <td>N</td>\n",
       "      <td>9</td>\n",
       "      <td>i conigli hanno un ottimo udito e un' ottima v...</td>\n",
       "      <td>5.13</td>\n",
       "      <td>HIGH</td>\n",
       "    </tr>\n",
       "  </tbody>\n",
       "</table>\n",
       "<p>200 rows × 7 columns</p>\n",
       "</div>"
      ],
      "text/plain": [
       "     index       TARGET POS  INDEX  \\\n",
       "0        0  achievement   N      3   \n",
       "1        1  achievement   N      9   \n",
       "2        2     activate   V      1   \n",
       "3        3     activate   V     15   \n",
       "4        4    adventure   N      9   \n",
       "..     ...          ...  ..    ...   \n",
       "195     95       verità   N      8   \n",
       "196     96      viaggio   N      2   \n",
       "197     97      viaggio   N      6   \n",
       "198     98        vista   N      6   \n",
       "199     99        vista   N      9   \n",
       "\n",
       "                                                  TEXT  MEAN CONCRETE  \n",
       "0    Bring up academic achievements , awards , and ...  3.06      LOW  \n",
       "1    Please list people you have helped , your pers...  3.03      LOW  \n",
       "2       Add activated carbon straight to your vodka .   3.83      LOW  \n",
       "3    Place sensors around your garden , and when a ...  5.51     HIGH  \n",
       "4    Look for a partner that shares your level of a...  2.03      LOW  \n",
       "..                                                 ...   ...      ...  \n",
       "195  In un modo o nell' altro , la verità viene sem...  2.53      LOW  \n",
       "196  Organizza dei viaggi nel fine settimana quando...  5.03     HIGH  \n",
       "197  Pesa le tue valigie prima del viaggio per evit...  4.84     HIGH  \n",
       "198  è molto importante non perdere di vista la pro...  2.22      LOW  \n",
       "199  i conigli hanno un ottimo udito e un' ottima v...  5.13     HIGH  \n",
       "\n",
       "[200 rows x 7 columns]"
      ]
     },
     "execution_count": 4,
     "metadata": {},
     "output_type": "execute_result"
    }
   ],
   "source": [
    "# Add CONCRETE column\n",
    "df[\"CONCRETE\"] = np.where(df[\"MEAN\"] <= 4, 'LOW', 'HIGH')\n",
    "df"
   ]
  },
  {
   "cell_type": "markdown",
   "metadata": {},
   "source": [
    "# Question 2"
   ]
  },
  {
   "cell_type": "code",
   "execution_count": 5,
   "metadata": {},
   "outputs": [
    {
     "name": "stdout",
     "output_type": "stream",
     "text": [
      "Train size:  160 , Test size: 20\n"
     ]
    }
   ],
   "source": [
    "train, test = sk.model_selection.train_test_split(df, train_size=0.8, test_size=0.1, random_state=4111)\n",
    "print(\"Train size: \", str(len(train)), \", Test size: \" + str(len(test)))"
   ]
  },
  {
   "cell_type": "markdown",
   "metadata": {},
   "source": [
    "# Question 3\n",
    "???"
   ]
  },
  {
   "cell_type": "code",
   "execution_count": 6,
   "metadata": {},
   "outputs": [],
   "source": [
    "majority = [max(train[\"CONCRETE\"])]*len(test[\"CONCRETE\"])"
   ]
  },
  {
   "cell_type": "code",
   "execution_count": 7,
   "metadata": {},
   "outputs": [
    {
     "name": "stdout",
     "output_type": "stream",
     "text": [
      "\tMetrics for: Prediction using majority class\n",
      "\n",
      "               precision    recall  f1-score   support\n",
      "\n",
      "        HIGH       0.00      0.00      0.00        12\n",
      "         LOW       0.40      1.00      0.57         8\n",
      "\n",
      "    accuracy                           0.40        20\n",
      "   macro avg       0.20      0.50      0.29        20\n",
      "weighted avg       0.16      0.40      0.23        20\n",
      "\n"
     ]
    },
    {
     "name": "stderr",
     "output_type": "stream",
     "text": [
      "/Users/nosaka/opt/miniconda3/envs/ml-env/lib/python3.8/site-packages/sklearn/metrics/_classification.py:1221: UndefinedMetricWarning: Precision and F-score are ill-defined and being set to 0.0 in labels with no predicted samples. Use `zero_division` parameter to control this behavior.\n",
      "  _warn_prf(average, modifier, msg_start, len(result))\n"
     ]
    },
    {
     "data": {
      "text/plain": [
       "array([[ 0, 12],\n",
       "       [ 0,  8]])"
      ]
     },
     "execution_count": 7,
     "metadata": {},
     "output_type": "execute_result"
    }
   ],
   "source": [
    "print(\n",
    "    \"\\tMetrics for: Prediction using majority class\\n\\n\",\n",
    "    sk.metrics.classification_report(\n",
    "        test[\"CONCRETE\"],\n",
    "        majority\n",
    "    )\n",
    ")\n",
    "sk.metrics.confusion_matrix(test[\"CONCRETE\"], majority)"
   ]
  },
  {
   "cell_type": "markdown",
   "metadata": {},
   "source": [
    "# Question 4"
   ]
  },
  {
   "cell_type": "code",
   "execution_count": 8,
   "metadata": {},
   "outputs": [],
   "source": [
    "target_length = lambda sent: \"HIGH\" if len(sent) >= 5 else \"LOW\""
   ]
  },
  {
   "cell_type": "code",
   "execution_count": 9,
   "metadata": {},
   "outputs": [
    {
     "name": "stdout",
     "output_type": "stream",
     "text": [
      "\tMetrics for: Prediction using length classification\n",
      "\n",
      "               precision    recall  f1-score   support\n",
      "\n",
      "        HIGH       0.54      0.58      0.56        12\n",
      "         LOW       0.29      0.25      0.27         8\n",
      "\n",
      "    accuracy                           0.45        20\n",
      "   macro avg       0.41      0.42      0.41        20\n",
      "weighted avg       0.44      0.45      0.44        20\n",
      "\n"
     ]
    },
    {
     "data": {
      "text/plain": [
       "array([[7, 5],\n",
       "       [6, 2]])"
      ]
     },
     "execution_count": 9,
     "metadata": {},
     "output_type": "execute_result"
    }
   ],
   "source": [
    "print(\n",
    "    \"\\tMetrics for: Prediction using length classification\\n\\n\",\n",
    "    sk.metrics.classification_report(\n",
    "        test[\"CONCRETE\"],\n",
    "        [target_length(sent) for sent in test[\"TARGET\"]]\n",
    "    )\n",
    ")\n",
    "sk.metrics.confusion_matrix(test[\"CONCRETE\"], [target_length(sent) for sent in test[\"TARGET\"]])"
   ]
  },
  {
   "cell_type": "markdown",
   "metadata": {},
   "source": [
    "# Question 5"
   ]
  },
  {
   "cell_type": "code",
   "execution_count": 10,
   "metadata": {},
   "outputs": [],
   "source": [
    "from sklearn.feature_extraction.text import CountVectorizer\n",
    "count_vect = CountVectorizer()"
   ]
  },
  {
   "cell_type": "code",
   "execution_count": 11,
   "metadata": {},
   "outputs": [
    {
     "data": {
      "text/plain": [
       "(160, 94)"
      ]
     },
     "execution_count": 11,
     "metadata": {},
     "output_type": "execute_result"
    }
   ],
   "source": [
    "feature_counts = count_vect.fit_transform(train[\"TARGET\"])\n",
    "feature_counts.shape"
   ]
  },
  {
   "cell_type": "code",
   "execution_count": 12,
   "metadata": {},
   "outputs": [],
   "source": [
    "from sklearn.feature_extraction.text import TfidfTransformer\n",
    "tfidf_transformer = TfidfTransformer(use_idf=False).fit(feature_counts)"
   ]
  },
  {
   "cell_type": "code",
   "execution_count": 13,
   "metadata": {},
   "outputs": [
    {
     "data": {
      "text/plain": [
       "(160, 94)"
      ]
     },
     "execution_count": 13,
     "metadata": {},
     "output_type": "execute_result"
    }
   ],
   "source": [
    "feature_tf = tfidf_transformer.transform(feature_counts)\n",
    "feature_tf.shape"
   ]
  },
  {
   "cell_type": "code",
   "execution_count": 14,
   "metadata": {},
   "outputs": [],
   "source": [
    "from sklearn.naive_bayes import MultinomialNB\n",
    "nb_classifier = MultinomialNB().fit(feature_tf, train[\"CONCRETE\"])"
   ]
  },
  {
   "cell_type": "code",
   "execution_count": 15,
   "metadata": {},
   "outputs": [],
   "source": [
    "docs_counts = count_vect.transform(test[\"TARGET\"])\n",
    "docs_tfidf = tfidf_transformer.transform(docs_counts)"
   ]
  },
  {
   "cell_type": "code",
   "execution_count": 16,
   "metadata": {},
   "outputs": [
    {
     "name": "stdout",
     "output_type": "stream",
     "text": [
      "[ HIGH ] PREDICTED FOR: aria ACTUAL:  LOW\n",
      "[ HIGH ] PREDICTED FOR: viaggio ACTUAL:  HIGH\n",
      "[ HIGH ] PREDICTED FOR: eat ACTUAL:  HIGH\n",
      "[ HIGH ] PREDICTED FOR: child ACTUAL:  HIGH\n",
      "[ HIGH ] PREDICTED FOR: game ACTUAL:  HIGH\n",
      "[ HIGH ] PREDICTED FOR: masturbare ACTUAL:  HIGH\n",
      "[ LOW ] PREDICTED FOR: quality ACTUAL:  LOW\n",
      "[ LOW ] PREDICTED FOR: soothe ACTUAL:  HIGH\n",
      "[ HIGH ] PREDICTED FOR: campione ACTUAL:  HIGH\n",
      "[ HIGH ] PREDICTED FOR: honor ACTUAL:  LOW\n",
      "[ HIGH ] PREDICTED FOR: aria ACTUAL:  HIGH\n",
      "[ LOW ] PREDICTED FOR: offend ACTUAL:  LOW\n",
      "[ LOW ] PREDICTED FOR: inspire ACTUAL:  LOW\n",
      "[ HIGH ] PREDICTED FOR: head ACTUAL:  LOW\n",
      "[ LOW ] PREDICTED FOR: interest ACTUAL:  HIGH\n",
      "[ HIGH ] PREDICTED FOR: book ACTUAL:  HIGH\n",
      "[ HIGH ] PREDICTED FOR: hand ACTUAL:  HIGH\n",
      "[ HIGH ] PREDICTED FOR: suffocate ACTUAL:  LOW\n",
      "[ LOW ] PREDICTED FOR: activate ACTUAL:  HIGH\n",
      "[ HIGH ] PREDICTED FOR: honor ACTUAL:  LOW\n"
     ]
    }
   ],
   "source": [
    "predictions = nb_classifier.predict(docs_tfidf)\n",
    "\n",
    "for sentence, concrete, actual in zip(test[\"TARGET\"], predictions, test[\"CONCRETE\"]):\n",
    "    print(\"[\",concrete,\"]\", \"PREDICTED FOR:\",sentence,\"ACTUAL: \", actual)"
   ]
  },
  {
   "cell_type": "code",
   "execution_count": 17,
   "metadata": {},
   "outputs": [
    {
     "name": "stdout",
     "output_type": "stream",
     "text": [
      "\tMetrics for: Prediction using Naive Bayes Classifier\n",
      "\n",
      "               precision    recall  f1-score   support\n",
      "\n",
      "        HIGH       0.64      0.75      0.69        12\n",
      "         LOW       0.50      0.38      0.43         8\n",
      "\n",
      "    accuracy                           0.60        20\n",
      "   macro avg       0.57      0.56      0.56        20\n",
      "weighted avg       0.59      0.60      0.59        20\n",
      "\n"
     ]
    },
    {
     "data": {
      "text/plain": [
       "array([[9, 3],\n",
       "       [5, 3]])"
      ]
     },
     "execution_count": 17,
     "metadata": {},
     "output_type": "execute_result"
    }
   ],
   "source": [
    "print(\n",
    "    \"\\tMetrics for: Prediction using Naive Bayes Classifier\\n\\n\",\n",
    "    sk.metrics.classification_report(\n",
    "        test[\"CONCRETE\"],\n",
    "        predictions\n",
    "    )\n",
    ")\n",
    "sk.metrics.confusion_matrix(test[\"CONCRETE\"], predictions)"
   ]
  },
  {
   "cell_type": "markdown",
   "metadata": {},
   "source": [
    "## Question 6\n",
    "We can see that the weighted average for precision in Naive Bayes is 0.59, where it's 0.44 for the length algorithm and an embarrasing 0.16 if we're just guessing by using the majority class.\n",
    "\n",
    "This tells us that NB is far better than the other two algorithms, and this makese sense as it's more statistically informed.\n",
    "\n",
    "Now, let's look at the f1 scores. 0.23 for majority, 0.44 for length, and 0.59 for NB. Majority is worse than just guessing, and length is as well but by a much smaller margin. NB is better than guessing, but we should really have more data to make better estimates on these, since our test size is 20.\n",
    "\n",
    "Overall, we're informed in saying that NB is better than using the length of a word, and using the length of a word is obviously better than just guessing that it's always HIGH or LOW.\n",
    "\n",
    "Since we're comparing against these two baselines, we can confidently say that NB is a statistically successful model for estimating the CONCRETE target feature."
   ]
  }
 ],
 "metadata": {
  "kernelspec": {
   "display_name": "Python 3",
   "language": "python",
   "name": "python3"
  },
  "language_info": {
   "codemirror_mode": {
    "name": "ipython",
    "version": 3
   },
   "file_extension": ".py",
   "mimetype": "text/x-python",
   "name": "python",
   "nbconvert_exporter": "python",
   "pygments_lexer": "ipython3",
   "version": "3.8.5"
  }
 },
 "nbformat": 4,
 "nbformat_minor": 4
}
