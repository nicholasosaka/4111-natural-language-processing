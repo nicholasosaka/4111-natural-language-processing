{
 "cells": [
  {
   "cell_type": "code",
   "execution_count": 1,
   "metadata": {},
   "outputs": [],
   "source": [
    "import numpy as np\n",
    "import pandas as pd\n",
    "import matplotlib as matplot\n",
    "import nltk"
   ]
  },
  {
   "cell_type": "markdown",
   "metadata": {},
   "source": [
    "# Question 1"
   ]
  },
  {
   "cell_type": "code",
   "execution_count": 2,
   "metadata": {},
   "outputs": [],
   "source": [
    "en_df = pd.read_csv('data/CONcreTEXT_trial_EN.tsv', sep='\\t') # load data files\n",
    "it_df = pd.read_csv('data/CONcreTEXT_trial_IT.tsv', sep='\\t')"
   ]
  },
  {
   "cell_type": "code",
   "execution_count": 3,
   "metadata": {},
   "outputs": [],
   "source": [
    "en_df['LANGUAGE'] = ['ENGLISH'] * en_df.shape[0]\n",
    "it_df['LANGUAGE'] = ['ITALIAN'] * it_df.shape[0]"
   ]
  },
  {
   "cell_type": "code",
   "execution_count": 4,
   "metadata": {},
   "outputs": [
    {
     "data": {
      "text/html": [
       "<div>\n",
       "<style scoped>\n",
       "    .dataframe tbody tr th:only-of-type {\n",
       "        vertical-align: middle;\n",
       "    }\n",
       "\n",
       "    .dataframe tbody tr th {\n",
       "        vertical-align: top;\n",
       "    }\n",
       "\n",
       "    .dataframe thead th {\n",
       "        text-align: right;\n",
       "    }\n",
       "</style>\n",
       "<table border=\"1\" class=\"dataframe\">\n",
       "  <thead>\n",
       "    <tr style=\"text-align: right;\">\n",
       "      <th></th>\n",
       "      <th>index</th>\n",
       "      <th>TARGET</th>\n",
       "      <th>POS</th>\n",
       "      <th>INDEX</th>\n",
       "      <th>TEXT</th>\n",
       "      <th>MEAN</th>\n",
       "      <th>LANGUAGE</th>\n",
       "    </tr>\n",
       "  </thead>\n",
       "  <tbody>\n",
       "    <tr>\n",
       "      <th>0</th>\n",
       "      <td>0</td>\n",
       "      <td>achievement</td>\n",
       "      <td>N</td>\n",
       "      <td>3</td>\n",
       "      <td>Bring up academic achievements , awards , and ...</td>\n",
       "      <td>3.06</td>\n",
       "      <td>ENGLISH</td>\n",
       "    </tr>\n",
       "    <tr>\n",
       "      <th>1</th>\n",
       "      <td>1</td>\n",
       "      <td>achievement</td>\n",
       "      <td>N</td>\n",
       "      <td>9</td>\n",
       "      <td>Please list people you have helped , your pers...</td>\n",
       "      <td>3.03</td>\n",
       "      <td>ENGLISH</td>\n",
       "    </tr>\n",
       "    <tr>\n",
       "      <th>2</th>\n",
       "      <td>2</td>\n",
       "      <td>activate</td>\n",
       "      <td>V</td>\n",
       "      <td>1</td>\n",
       "      <td>Add activated carbon straight to your vodka .</td>\n",
       "      <td>3.83</td>\n",
       "      <td>ENGLISH</td>\n",
       "    </tr>\n",
       "    <tr>\n",
       "      <th>3</th>\n",
       "      <td>3</td>\n",
       "      <td>activate</td>\n",
       "      <td>V</td>\n",
       "      <td>15</td>\n",
       "      <td>Place sensors around your garden , and when a ...</td>\n",
       "      <td>5.51</td>\n",
       "      <td>ENGLISH</td>\n",
       "    </tr>\n",
       "    <tr>\n",
       "      <th>4</th>\n",
       "      <td>4</td>\n",
       "      <td>adventure</td>\n",
       "      <td>N</td>\n",
       "      <td>9</td>\n",
       "      <td>Look for a partner that shares your level of a...</td>\n",
       "      <td>2.03</td>\n",
       "      <td>ENGLISH</td>\n",
       "    </tr>\n",
       "    <tr>\n",
       "      <th>...</th>\n",
       "      <td>...</td>\n",
       "      <td>...</td>\n",
       "      <td>...</td>\n",
       "      <td>...</td>\n",
       "      <td>...</td>\n",
       "      <td>...</td>\n",
       "      <td>...</td>\n",
       "    </tr>\n",
       "    <tr>\n",
       "      <th>195</th>\n",
       "      <td>95</td>\n",
       "      <td>verità</td>\n",
       "      <td>N</td>\n",
       "      <td>8</td>\n",
       "      <td>In un modo o nell' altro , la verità viene sem...</td>\n",
       "      <td>2.53</td>\n",
       "      <td>ITALIAN</td>\n",
       "    </tr>\n",
       "    <tr>\n",
       "      <th>196</th>\n",
       "      <td>96</td>\n",
       "      <td>viaggio</td>\n",
       "      <td>N</td>\n",
       "      <td>2</td>\n",
       "      <td>Organizza dei viaggi nel fine settimana quando...</td>\n",
       "      <td>5.03</td>\n",
       "      <td>ITALIAN</td>\n",
       "    </tr>\n",
       "    <tr>\n",
       "      <th>197</th>\n",
       "      <td>97</td>\n",
       "      <td>viaggio</td>\n",
       "      <td>N</td>\n",
       "      <td>6</td>\n",
       "      <td>Pesa le tue valigie prima del viaggio per evit...</td>\n",
       "      <td>4.84</td>\n",
       "      <td>ITALIAN</td>\n",
       "    </tr>\n",
       "    <tr>\n",
       "      <th>198</th>\n",
       "      <td>98</td>\n",
       "      <td>vista</td>\n",
       "      <td>N</td>\n",
       "      <td>6</td>\n",
       "      <td>è molto importante non perdere di vista la pro...</td>\n",
       "      <td>2.22</td>\n",
       "      <td>ITALIAN</td>\n",
       "    </tr>\n",
       "    <tr>\n",
       "      <th>199</th>\n",
       "      <td>99</td>\n",
       "      <td>vista</td>\n",
       "      <td>N</td>\n",
       "      <td>9</td>\n",
       "      <td>i conigli hanno un ottimo udito e un' ottima v...</td>\n",
       "      <td>5.13</td>\n",
       "      <td>ITALIAN</td>\n",
       "    </tr>\n",
       "  </tbody>\n",
       "</table>\n",
       "<p>200 rows × 7 columns</p>\n",
       "</div>"
      ],
      "text/plain": [
       "     index       TARGET POS  INDEX  \\\n",
       "0        0  achievement   N      3   \n",
       "1        1  achievement   N      9   \n",
       "2        2     activate   V      1   \n",
       "3        3     activate   V     15   \n",
       "4        4    adventure   N      9   \n",
       "..     ...          ...  ..    ...   \n",
       "195     95       verità   N      8   \n",
       "196     96      viaggio   N      2   \n",
       "197     97      viaggio   N      6   \n",
       "198     98        vista   N      6   \n",
       "199     99        vista   N      9   \n",
       "\n",
       "                                                  TEXT  MEAN LANGUAGE  \n",
       "0    Bring up academic achievements , awards , and ...  3.06  ENGLISH  \n",
       "1    Please list people you have helped , your pers...  3.03  ENGLISH  \n",
       "2       Add activated carbon straight to your vodka .   3.83  ENGLISH  \n",
       "3    Place sensors around your garden , and when a ...  5.51  ENGLISH  \n",
       "4    Look for a partner that shares your level of a...  2.03  ENGLISH  \n",
       "..                                                 ...   ...      ...  \n",
       "195  In un modo o nell' altro , la verità viene sem...  2.53  ITALIAN  \n",
       "196  Organizza dei viaggi nel fine settimana quando...  5.03  ITALIAN  \n",
       "197  Pesa le tue valigie prima del viaggio per evit...  4.84  ITALIAN  \n",
       "198  è molto importante non perdere di vista la pro...  2.22  ITALIAN  \n",
       "199  i conigli hanno un ottimo udito e un' ottima v...  5.13  ITALIAN  \n",
       "\n",
       "[200 rows x 7 columns]"
      ]
     },
     "execution_count": 4,
     "metadata": {},
     "output_type": "execute_result"
    }
   ],
   "source": [
    "df = pd.concat([en_df, it_df])\n",
    "df = df.reset_index(0)\n",
    "df"
   ]
  },
  {
   "cell_type": "markdown",
   "metadata": {},
   "source": [
    "# Question 2"
   ]
  },
  {
   "cell_type": "code",
   "execution_count": 5,
   "metadata": {},
   "outputs": [],
   "source": [
    "from sklearn.feature_extraction.text import CountVectorizer\n",
    "\n",
    "count_vectorizer = CountVectorizer()"
   ]
  },
  {
   "cell_type": "code",
   "execution_count": 6,
   "metadata": {},
   "outputs": [
    {
     "data": {
      "text/plain": [
       "(200, 1330)"
      ]
     },
     "execution_count": 6,
     "metadata": {},
     "output_type": "execute_result"
    }
   ],
   "source": [
    "counts = count_vectorizer.fit_transform(df['TEXT'])\n",
    "counts.shape"
   ]
  },
  {
   "cell_type": "code",
   "execution_count": 7,
   "metadata": {},
   "outputs": [],
   "source": [
    "from sklearn.feature_extraction.text import TfidfTransformer\n",
    "\n",
    "tf_transformer = TfidfTransformer(use_idf=False).fit(counts)"
   ]
  },
  {
   "cell_type": "code",
   "execution_count": 8,
   "metadata": {},
   "outputs": [
    {
     "data": {
      "text/plain": [
       "(200, 1330)"
      ]
     },
     "execution_count": 8,
     "metadata": {},
     "output_type": "execute_result"
    }
   ],
   "source": [
    "tf = tf_transformer.transform(counts)\n",
    "tf.shape"
   ]
  },
  {
   "cell_type": "markdown",
   "metadata": {},
   "source": [
    "# Question 3 & 4"
   ]
  },
  {
   "cell_type": "code",
   "execution_count": 9,
   "metadata": {},
   "outputs": [],
   "source": [
    "from sklearn.naive_bayes import MultinomialNB\n",
    "\n",
    "clf = MultinomialNB().fit(tf, df['LANGUAGE'])"
   ]
  },
  {
   "cell_type": "code",
   "execution_count": 10,
   "metadata": {},
   "outputs": [],
   "source": [
    "docs_new = ['Why does a rose smell sweet?', 'Pensa ai tuoi sentimenti di amore.']"
   ]
  },
  {
   "cell_type": "code",
   "execution_count": 11,
   "metadata": {},
   "outputs": [],
   "source": [
    "docs_counts = count_vectorizer.transform(docs_new)\n",
    "docs_tfidf = tf_transformer.transform(docs_counts)"
   ]
  },
  {
   "cell_type": "code",
   "execution_count": 12,
   "metadata": {},
   "outputs": [
    {
     "name": "stdout",
     "output_type": "stream",
     "text": [
      "Why does a rose smell sweet? => ENGLISH\n",
      "Pensa ai tuoi sentimenti di amore. => ITALIAN\n"
     ]
    }
   ],
   "source": [
    "predictions = clf.predict(docs_tfidf)\n",
    "\n",
    "for sentence, language in zip(docs_new, predictions):\n",
    "    print(sentence + \" => \" + language)"
   ]
  },
  {
   "cell_type": "markdown",
   "metadata": {},
   "source": [
    "# Question 5"
   ]
  },
  {
   "cell_type": "code",
   "execution_count": 13,
   "metadata": {},
   "outputs": [],
   "source": [
    "sentences = [\n",
    "    'Leonardo DaVinci was a prolific artist.',\n",
    "    'Amo il cibo italiano.',\n",
    "    'Quando mangeremo',\n",
    "    'I enjoy leisurely strolls around Rome',\n",
    "    'Grazie per la buona recensione'\n",
    "]"
   ]
  },
  {
   "cell_type": "code",
   "execution_count": 14,
   "metadata": {},
   "outputs": [],
   "source": [
    "sentences_counts = count_vectorizer.transform(sentences)\n",
    "sentences_tfidf = tf_transformer.transform(sentences_counts)"
   ]
  },
  {
   "cell_type": "code",
   "execution_count": 15,
   "metadata": {},
   "outputs": [
    {
     "name": "stdout",
     "output_type": "stream",
     "text": [
      "Leonardo DaVinci was a prolific artist. => ENGLISH\n",
      "Amo il cibo italiano. => ITALIAN\n",
      "Quando mangeremo => ITALIAN\n",
      "I enjoy leisurely strolls around Rome => ENGLISH\n",
      "Grazie per la buona recensione => ITALIAN\n"
     ]
    }
   ],
   "source": [
    "predictions = clf.predict(sentences_tfidf)\n",
    "\n",
    "for sentence, language in zip(sentences, predictions):\n",
    "    print(sentence + \" => \" + language)"
   ]
  },
  {
   "cell_type": "markdown",
   "metadata": {},
   "source": [
    "# Extra Credit\n",
    "### Strategy\n",
    "Cognates are words that are similar between two langauges. By abusing these words, we can have a sentence that is valid only in X language, but our model confuses with Y language. I believe the best way to do this is to ensure that the cognate has at most 1 edit distance between languages."
   ]
  },
  {
   "cell_type": "code",
   "execution_count": 16,
   "metadata": {},
   "outputs": [],
   "source": [
    "cognate_sentences = [ \n",
    "    'Individuo credibile', # Italian, but has very similar wor\n",
    "]"
   ]
  },
  {
   "cell_type": "code",
   "execution_count": 17,
   "metadata": {},
   "outputs": [],
   "source": [
    "cog_counts = count_vectorizer.transform(cognate_sentences)\n",
    "cog_tfidf = tf_transformer.transform(cog_counts)"
   ]
  },
  {
   "cell_type": "code",
   "execution_count": 18,
   "metadata": {},
   "outputs": [
    {
     "name": "stdout",
     "output_type": "stream",
     "text": [
      "Individuo credibile => ENGLISH\n"
     ]
    }
   ],
   "source": [
    "predictions = clf.predict(cog_tfidf)\n",
    "\n",
    "for sentence, language in zip(cognate_sentences, predictions):\n",
    "    print(sentence + \" => \" + language)"
   ]
  }
 ],
 "metadata": {
  "kernelspec": {
   "display_name": "Python 3",
   "language": "python",
   "name": "python3"
  },
  "language_info": {
   "codemirror_mode": {
    "name": "ipython",
    "version": 3
   },
   "file_extension": ".py",
   "mimetype": "text/x-python",
   "name": "python",
   "nbconvert_exporter": "python",
   "pygments_lexer": "ipython3",
   "version": "3.8.5"
  }
 },
 "nbformat": 4,
 "nbformat_minor": 4
}
