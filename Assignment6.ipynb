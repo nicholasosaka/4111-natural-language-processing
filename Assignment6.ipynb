{
 "cells": [
  {
   "cell_type": "code",
   "execution_count": 1,
   "metadata": {},
   "outputs": [],
   "source": [
    "import numpy as np\n",
    "import pandas as pd\n",
    "import matplotlib as matplot\n",
    "import nltk\n",
    "import sklearn as sk\n",
    "import re\n",
    "import scipy.sparse"
   ]
  },
  {
   "cell_type": "markdown",
   "metadata": {},
   "source": [
    "# Question 1"
   ]
  },
  {
   "cell_type": "code",
   "execution_count": 2,
   "metadata": {},
   "outputs": [
    {
     "data": {
      "text/html": [
       "<div>\n",
       "<style scoped>\n",
       "    .dataframe tbody tr th:only-of-type {\n",
       "        vertical-align: middle;\n",
       "    }\n",
       "\n",
       "    .dataframe tbody tr th {\n",
       "        vertical-align: top;\n",
       "    }\n",
       "\n",
       "    .dataframe thead th {\n",
       "        text-align: right;\n",
       "    }\n",
       "</style>\n",
       "<table border=\"1\" class=\"dataframe\">\n",
       "  <thead>\n",
       "    <tr style=\"text-align: right;\">\n",
       "      <th></th>\n",
       "      <th>TARGET</th>\n",
       "      <th>POS</th>\n",
       "      <th>INDEX</th>\n",
       "      <th>TEXT</th>\n",
       "      <th>MEAN</th>\n",
       "    </tr>\n",
       "  </thead>\n",
       "  <tbody>\n",
       "    <tr>\n",
       "      <th>0</th>\n",
       "      <td>achievement</td>\n",
       "      <td>N</td>\n",
       "      <td>3</td>\n",
       "      <td>Bring up academic achievements , awards , and ...</td>\n",
       "      <td>3.06</td>\n",
       "    </tr>\n",
       "    <tr>\n",
       "      <th>1</th>\n",
       "      <td>achievement</td>\n",
       "      <td>N</td>\n",
       "      <td>9</td>\n",
       "      <td>Please list people you have helped , your pers...</td>\n",
       "      <td>3.03</td>\n",
       "    </tr>\n",
       "    <tr>\n",
       "      <th>2</th>\n",
       "      <td>activate</td>\n",
       "      <td>V</td>\n",
       "      <td>1</td>\n",
       "      <td>Add activated carbon straight to your vodka .</td>\n",
       "      <td>3.83</td>\n",
       "    </tr>\n",
       "    <tr>\n",
       "      <th>3</th>\n",
       "      <td>activate</td>\n",
       "      <td>V</td>\n",
       "      <td>15</td>\n",
       "      <td>Place sensors around your garden , and when a ...</td>\n",
       "      <td>5.51</td>\n",
       "    </tr>\n",
       "    <tr>\n",
       "      <th>4</th>\n",
       "      <td>adventure</td>\n",
       "      <td>N</td>\n",
       "      <td>9</td>\n",
       "      <td>Look for a partner that shares your level of a...</td>\n",
       "      <td>2.03</td>\n",
       "    </tr>\n",
       "  </tbody>\n",
       "</table>\n",
       "</div>"
      ],
      "text/plain": [
       "        TARGET POS  INDEX                                               TEXT  \\\n",
       "0  achievement   N      3  Bring up academic achievements , awards , and ...   \n",
       "1  achievement   N      9  Please list people you have helped , your pers...   \n",
       "2     activate   V      1     Add activated carbon straight to your vodka .    \n",
       "3     activate   V     15  Place sensors around your garden , and when a ...   \n",
       "4    adventure   N      9  Look for a partner that shares your level of a...   \n",
       "\n",
       "   MEAN  \n",
       "0  3.06  \n",
       "1  3.03  \n",
       "2  3.83  \n",
       "3  5.51  \n",
       "4  2.03  "
      ]
     },
     "execution_count": 2,
     "metadata": {},
     "output_type": "execute_result"
    }
   ],
   "source": [
    "en_df_raw = pd.read_csv('data/CONcreTEXT_trial_EN.tsv', sep='\\t') # load data files\n",
    "it_df_raw = pd.read_csv('data/CONcreTEXT_trial_IT.tsv', sep='\\t')\n",
    "\n",
    "en_df = pd.DataFrame()\n",
    "it_df = pd.DataFrame()\n",
    "\n",
    "en_df_raw.head()"
   ]
  },
  {
   "cell_type": "code",
   "execution_count": 3,
   "metadata": {},
   "outputs": [],
   "source": [
    "en_df['SENTENCES'] = en_df_raw['TEXT'].apply(lambda sent: sent.strip().lower())\n",
    "it_df['SENTENCES'] = it_df_raw['TEXT'].apply(lambda sent: sent.strip().lower())"
   ]
  },
  {
   "cell_type": "code",
   "execution_count": 4,
   "metadata": {},
   "outputs": [],
   "source": [
    "tokenizer = nltk.RegexpTokenizer(r\"\\w+\")\n",
    "en_df['WORDS'] = en_df['SENTENCES'].apply(tokenizer.tokenize)\n",
    "it_df['WORDS'] = it_df['SENTENCES'].apply(tokenizer.tokenize)"
   ]
  },
  {
   "cell_type": "code",
   "execution_count": 5,
   "metadata": {},
   "outputs": [
    {
     "data": {
      "text/plain": [
       "['<s>',\n",
       " 'bring',\n",
       " 'up',\n",
       " 'academic',\n",
       " 'achievements',\n",
       " 'awards',\n",
       " 'and',\n",
       " 'other',\n",
       " 'milestones',\n",
       " 'in',\n",
       " 'your',\n",
       " 'life',\n",
       " '</s>']"
      ]
     },
     "execution_count": 5,
     "metadata": {},
     "output_type": "execute_result"
    }
   ],
   "source": [
    "en_df['TOKENS'] = en_df['WORDS'].apply(lambda words: [\"<s>\"] + words + [\"</s>\"])\n",
    "it_df['TOKENS'] = it_df['WORDS'].apply(lambda words: [\"<s>\"] + words + [\"</s>\"])\n",
    "en_df['TOKENS'][0]"
   ]
  },
  {
   "cell_type": "code",
   "execution_count": 6,
   "metadata": {},
   "outputs": [],
   "source": [
    "def ppmi(word1, word2, sentence, W_size=3):\n",
    "    occurances_word1 = occurance(word1, sentence)\n",
    "    occurances_word2 = occurance(word2, sentence)\n",
    "    \n",
    "    cooccurances = cooccurance(word1, word2, sentence, W_size)\n",
    "    \n",
    "    quotient = (cooccurances / (occurances_word1 * occurances_word2) )\n",
    "    return max(0, np.log2(quotient))"
   ]
  },
  {
   "cell_type": "code",
   "execution_count": 7,
   "metadata": {},
   "outputs": [
    {
     "data": {
      "text/plain": [
       "642"
      ]
     },
     "execution_count": 7,
     "metadata": {},
     "output_type": "execute_result"
    }
   ],
   "source": [
    "en_vocab = nltk.lm.Vocabulary([word for sentence in en_df['WORDS'] for word in sentence])\n",
    "len(en_vocab)"
   ]
  },
  {
   "cell_type": "code",
   "execution_count": 43,
   "metadata": {},
   "outputs": [],
   "source": [
    "class PPMI:\n",
    "    def __init__(self, sentences):\n",
    "        self.window_size = 3\n",
    "        \n",
    "        self.vocab = nltk.lm.Vocabulary([word for sentence in sentences for word in sentence])\n",
    "        self.sentences = sentences\n",
    "        self.matrix = pd.DataFrame(columns=self.vocab, index=self.vocab)\n",
    "        \n",
    "    def compute(self):\n",
    "        count = 0\n",
    "        \n",
    "        for index_word in self.matrix.index:\n",
    "            for column_word in self.matrix.index:\n",
    "                count += 1\n",
    "                \n",
    "        return count\n",
    "        \n",
    "    def cooccurance(self, word1, word2):\n",
    "        \"\"\"Counts the number of co-occurances in a sentence within the window size\n",
    "\n",
    "        word1 - first word\n",
    "        word2 - second word\n",
    "        sentence - sentence to use\n",
    "        W_size - window size on each side, such that co-occurances will be found within the window size\n",
    "        \"\"\"\n",
    "        count = 0\n",
    "        for sentence in self.sentences:\n",
    "            for index in range(0, len(sentence)):\n",
    "                if sentence[index] == word1:\n",
    "\n",
    "                    left_slice_index = max(0, index-self.window_size)\n",
    "                    right_slice_index = index+self.window_size+1\n",
    "\n",
    "                    for inner_index, inner_word in enumerate(sentence[left_slice_index : right_slice_index]):\n",
    "                        if inner_word == word2: count += 1\n",
    "\n",
    "        return count"
   ]
  },
  {
   "cell_type": "code",
   "execution_count": 44,
   "metadata": {},
   "outputs": [],
   "source": [
    "a = PPMI(en_df['TOKENS'])"
   ]
  },
  {
   "cell_type": "code",
   "execution_count": 45,
   "metadata": {},
   "outputs": [
    {
     "data": {
      "text/plain": [
       "414736"
      ]
     },
     "execution_count": 45,
     "metadata": {},
     "output_type": "execute_result"
    }
   ],
   "source": [
    "a.compute()"
   ]
  },
  {
   "cell_type": "code",
   "execution_count": null,
   "metadata": {},
   "outputs": [],
   "source": []
  }
 ],
 "metadata": {
  "kernelspec": {
   "display_name": "Python 3",
   "language": "python",
   "name": "python3"
  },
  "language_info": {
   "codemirror_mode": {
    "name": "ipython",
    "version": 3
   },
   "file_extension": ".py",
   "mimetype": "text/x-python",
   "name": "python",
   "nbconvert_exporter": "python",
   "pygments_lexer": "ipython3",
   "version": "3.8.5"
  }
 },
 "nbformat": 4,
 "nbformat_minor": 4
}
